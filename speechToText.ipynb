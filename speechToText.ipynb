{
 "cells": [
  {
   "cell_type": "code",
   "execution_count": 3,
   "metadata": {},
   "outputs": [],
   "source": [
    "import speech_recognition as sr"
   ]
  },
  {
   "cell_type": "code",
   "execution_count": 20,
   "metadata": {},
   "outputs": [
    {
     "name": "stdout",
     "output_type": "stream",
     "text": [
      "Silence pls... calibrating the background noise\n",
      "Calibrated... now speak!\n",
      "Did you say...\n",
      "hello\n"
     ]
    }
   ],
   "source": [
    "r = sr.Recognizer()\n",
    "\n",
    "with sr.Microphone() as source2:\n",
    "    print(\"Silence pls... calibrating the background noise\")\n",
    "    r.adjust_for_ambient_noise(source2, duration=2)\n",
    "    print(\"Calibrated... now speak!\")\n",
    "\n",
    "    audio2 = r.listen(source2)\n",
    "\n",
    "    try:\n",
    "        MyText = r.recognize_google(audio2)\n",
    "        MyText = MyText.lower()\n",
    "\n",
    "        print(\"Did you say...\\n\" + MyText)\n",
    "    except sr.UnknownValueError:\n",
    "        print(\"Sorry, I could not understand the audio.\")\n",
    "    except sr.RequestError as e:\n",
    "        print(\"Could not request results from Amazon service; {0}\".format(e))"
   ]
  }
 ],
 "metadata": {
  "kernelspec": {
   "display_name": "Python 3",
   "language": "python",
   "name": "python3"
  },
  "language_info": {
   "codemirror_mode": {
    "name": "ipython",
    "version": 3
   },
   "file_extension": ".py",
   "mimetype": "text/x-python",
   "name": "python",
   "nbconvert_exporter": "python",
   "pygments_lexer": "ipython3",
   "version": "3.11.5"
  }
 },
 "nbformat": 4,
 "nbformat_minor": 2
}
